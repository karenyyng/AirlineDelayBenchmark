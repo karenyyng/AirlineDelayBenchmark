{
 "cells": [
  {
   "cell_type": "code",
   "execution_count": 54,
   "metadata": {
    "collapsed": true
   },
   "outputs": [],
   "source": [
    "from sklearn.externals import joblib\n",
    "import numpy as np "
   ]
  },
  {
   "cell_type": "code",
   "execution_count": 55,
   "metadata": {},
   "outputs": [],
   "source": [
    "pipeline = joblib.load(\"./RF_CV_pipeline_10_13_17_16_02_57.pkl\")"
   ]
  },
  {
   "cell_type": "code",
   "execution_count": 56,
   "metadata": {
    "collapsed": true
   },
   "outputs": [],
   "source": [
    "rf_clf = pipeline.steps[1][1]"
   ]
  },
  {
   "cell_type": "code",
   "execution_count": 57,
   "metadata": {},
   "outputs": [
    {
     "data": {
      "text/plain": [
       "30"
      ]
     },
     "execution_count": 57,
     "metadata": {},
     "output_type": "execute_result"
    }
   ],
   "source": [
    "len(rf_clf.feature_importances_)"
   ]
  },
  {
   "cell_type": "code",
   "execution_count": 58,
   "metadata": {
    "collapsed": true
   },
   "outputs": [],
   "source": [
    "columns = ['Dest_0', 'Dest_1', 'Dest_2', 'Dest_3', 'Dest_4', 'Dest_5', 'Dest_6',\n",
    "       'Dest_7', 'UniqueCarrier_0', 'UniqueCarrier_1', 'UniqueCarrier_2',\n",
    "       'UniqueCarrier_3', 'Origin_0', 'Origin_1', 'Origin_2', 'Origin_3',\n",
    "       'Origin_4', 'Origin_5', 'Origin_6', 'Origin_7', 'Year', 'Distance',\n",
    "       'Diverted', 'ArrTime', 'FlightNum', 'ActualElapsedTime', 'DayofMonth',\n",
    "       'Month', 'DepTime', 'DayOfWeek']\n",
    " "
   ]
  },
  {
   "cell_type": "code",
   "execution_count": 65,
   "metadata": {},
   "outputs": [],
   "source": [
    "importance = np.argsort(rf_clf.feature_importances_)[::-1]"
   ]
  },
  {
   "cell_type": "code",
   "execution_count": 66,
   "metadata": {},
   "outputs": [
    {
     "data": {
      "text/plain": [
       "array([ 0.17442172,  0.15717385,  0.15645512,  0.12671865,  0.09277179,\n",
       "        0.05181892,  0.02908505,  0.01830951,  0.01818345,  0.01386797,\n",
       "        0.01290421,  0.01160009,  0.01108878,  0.01101182,  0.01080242,\n",
       "        0.0107558 ,  0.01009918,  0.00970348,  0.0094588 ,  0.00943203,\n",
       "        0.00941894,  0.00884513,  0.00882505,  0.00875441,  0.00861679,\n",
       "        0.00419327,  0.00354752,  0.00213624,  0.        ,  0.        ])"
      ]
     },
     "execution_count": 66,
     "metadata": {},
     "output_type": "execute_result"
    }
   ],
   "source": [
    "np.array(rf_clf.feature_importances_[importance])"
   ]
  },
  {
   "cell_type": "code",
   "execution_count": 69,
   "metadata": {
    "collapsed": true
   },
   "outputs": [],
   "source": [
    "import pandas as pd"
   ]
  },
  {
   "cell_type": "code",
   "execution_count": 72,
   "metadata": {},
   "outputs": [
    {
     "data": {
      "text/html": [
       "<div>\n",
       "<style>\n",
       "    .dataframe thead tr:only-child th {\n",
       "        text-align: right;\n",
       "    }\n",
       "\n",
       "    .dataframe thead th {\n",
       "        text-align: left;\n",
       "    }\n",
       "\n",
       "    .dataframe tbody tr th {\n",
       "        vertical-align: top;\n",
       "    }\n",
       "</style>\n",
       "<table border=\"1\" class=\"dataframe\">\n",
       "  <thead>\n",
       "    <tr style=\"text-align: right;\">\n",
       "      <th></th>\n",
       "      <th>0</th>\n",
       "      <th>1</th>\n",
       "    </tr>\n",
       "  </thead>\n",
       "  <tbody>\n",
       "    <tr>\n",
       "      <th>0</th>\n",
       "      <td>ActualElapsedTime</td>\n",
       "      <td>17.44</td>\n",
       "    </tr>\n",
       "    <tr>\n",
       "      <th>1</th>\n",
       "      <td>ArrTime</td>\n",
       "      <td>15.72</td>\n",
       "    </tr>\n",
       "    <tr>\n",
       "      <th>2</th>\n",
       "      <td>Distance</td>\n",
       "      <td>15.65</td>\n",
       "    </tr>\n",
       "    <tr>\n",
       "      <th>3</th>\n",
       "      <td>DepTime</td>\n",
       "      <td>12.67</td>\n",
       "    </tr>\n",
       "    <tr>\n",
       "      <th>4</th>\n",
       "      <td>FlightNum</td>\n",
       "      <td>9.28</td>\n",
       "    </tr>\n",
       "    <tr>\n",
       "      <th>5</th>\n",
       "      <td>DayofMonth</td>\n",
       "      <td>5.18</td>\n",
       "    </tr>\n",
       "    <tr>\n",
       "      <th>6</th>\n",
       "      <td>DayOfWeek</td>\n",
       "      <td>2.91</td>\n",
       "    </tr>\n",
       "    <tr>\n",
       "      <th>7</th>\n",
       "      <td>UniqueCarrier_3</td>\n",
       "      <td>1.83</td>\n",
       "    </tr>\n",
       "    <tr>\n",
       "      <th>8</th>\n",
       "      <td>UniqueCarrier_2</td>\n",
       "      <td>1.82</td>\n",
       "    </tr>\n",
       "    <tr>\n",
       "      <th>9</th>\n",
       "      <td>UniqueCarrier_1</td>\n",
       "      <td>1.39</td>\n",
       "    </tr>\n",
       "    <tr>\n",
       "      <th>10</th>\n",
       "      <td>UniqueCarrier_0</td>\n",
       "      <td>1.29</td>\n",
       "    </tr>\n",
       "    <tr>\n",
       "      <th>11</th>\n",
       "      <td>Origin_4</td>\n",
       "      <td>1.16</td>\n",
       "    </tr>\n",
       "    <tr>\n",
       "      <th>12</th>\n",
       "      <td>Origin_6</td>\n",
       "      <td>1.11</td>\n",
       "    </tr>\n",
       "    <tr>\n",
       "      <th>13</th>\n",
       "      <td>Origin_3</td>\n",
       "      <td>1.10</td>\n",
       "    </tr>\n",
       "    <tr>\n",
       "      <th>14</th>\n",
       "      <td>Dest_6</td>\n",
       "      <td>1.08</td>\n",
       "    </tr>\n",
       "    <tr>\n",
       "      <th>15</th>\n",
       "      <td>Dest_5</td>\n",
       "      <td>1.08</td>\n",
       "    </tr>\n",
       "    <tr>\n",
       "      <th>16</th>\n",
       "      <td>Origin_5</td>\n",
       "      <td>1.01</td>\n",
       "    </tr>\n",
       "    <tr>\n",
       "      <th>17</th>\n",
       "      <td>Dest_7</td>\n",
       "      <td>0.97</td>\n",
       "    </tr>\n",
       "    <tr>\n",
       "      <th>18</th>\n",
       "      <td>Dest_4</td>\n",
       "      <td>0.95</td>\n",
       "    </tr>\n",
       "    <tr>\n",
       "      <th>19</th>\n",
       "      <td>Origin_7</td>\n",
       "      <td>0.94</td>\n",
       "    </tr>\n",
       "    <tr>\n",
       "      <th>20</th>\n",
       "      <td>Origin_2</td>\n",
       "      <td>0.94</td>\n",
       "    </tr>\n",
       "    <tr>\n",
       "      <th>21</th>\n",
       "      <td>Dest_2</td>\n",
       "      <td>0.88</td>\n",
       "    </tr>\n",
       "    <tr>\n",
       "      <th>22</th>\n",
       "      <td>Dest_1</td>\n",
       "      <td>0.88</td>\n",
       "    </tr>\n",
       "    <tr>\n",
       "      <th>23</th>\n",
       "      <td>Origin_1</td>\n",
       "      <td>0.88</td>\n",
       "    </tr>\n",
       "    <tr>\n",
       "      <th>24</th>\n",
       "      <td>Dest_3</td>\n",
       "      <td>0.86</td>\n",
       "    </tr>\n",
       "    <tr>\n",
       "      <th>25</th>\n",
       "      <td>Origin_0</td>\n",
       "      <td>0.42</td>\n",
       "    </tr>\n",
       "    <tr>\n",
       "      <th>26</th>\n",
       "      <td>Dest_0</td>\n",
       "      <td>0.35</td>\n",
       "    </tr>\n",
       "    <tr>\n",
       "      <th>27</th>\n",
       "      <td>Diverted</td>\n",
       "      <td>0.21</td>\n",
       "    </tr>\n",
       "    <tr>\n",
       "      <th>28</th>\n",
       "      <td>Year</td>\n",
       "      <td>0.00</td>\n",
       "    </tr>\n",
       "    <tr>\n",
       "      <th>29</th>\n",
       "      <td>Month</td>\n",
       "      <td>0.00</td>\n",
       "    </tr>\n",
       "  </tbody>\n",
       "</table>\n",
       "</div>"
      ],
      "text/plain": [
       "                    0      1\n",
       "0   ActualElapsedTime  17.44\n",
       "1             ArrTime  15.72\n",
       "2            Distance  15.65\n",
       "3             DepTime  12.67\n",
       "4           FlightNum   9.28\n",
       "5          DayofMonth   5.18\n",
       "6           DayOfWeek   2.91\n",
       "7     UniqueCarrier_3   1.83\n",
       "8     UniqueCarrier_2   1.82\n",
       "9     UniqueCarrier_1   1.39\n",
       "10    UniqueCarrier_0   1.29\n",
       "11           Origin_4   1.16\n",
       "12           Origin_6   1.11\n",
       "13           Origin_3   1.10\n",
       "14             Dest_6   1.08\n",
       "15             Dest_5   1.08\n",
       "16           Origin_5   1.01\n",
       "17             Dest_7   0.97\n",
       "18             Dest_4   0.95\n",
       "19           Origin_7   0.94\n",
       "20           Origin_2   0.94\n",
       "21             Dest_2   0.88\n",
       "22             Dest_1   0.88\n",
       "23           Origin_1   0.88\n",
       "24             Dest_3   0.86\n",
       "25           Origin_0   0.42\n",
       "26             Dest_0   0.35\n",
       "27           Diverted   0.21\n",
       "28               Year   0.00\n",
       "29              Month   0.00"
      ]
     },
     "execution_count": 72,
     "metadata": {},
     "output_type": "execute_result"
    }
   ],
   "source": [
    "pd.DataFrame([(columns[i], round(100*rf_clf.feature_importances_[i], 2)) \n",
    " for i in importance])"
   ]
  },
  {
   "cell_type": "code",
   "execution_count": 73,
   "metadata": {},
   "outputs": [
    {
     "name": "stdout",
     "output_type": "stream",
     "text": [
      "ActualElapsedTime:17.44\n",
      "ArrTime:15.72\n",
      "Distance:15.65\n",
      "DepTime:12.67\n",
      "FlightNum:9.28\n",
      "DayofMonth:5.18\n",
      "DayOfWeek:2.91\n",
      "UniqueCarrier_3:1.83\n",
      "UniqueCarrier_2:1.82\n",
      "UniqueCarrier_1:1.39\n",
      "UniqueCarrier_0:1.29\n",
      "Origin_4:1.16\n",
      "Origin_6:1.11\n",
      "Origin_3:1.10\n",
      "Dest_6:1.08\n",
      "Dest_5:1.08\n",
      "Origin_5:1.01\n",
      "Dest_7:0.97\n",
      "Dest_4:0.95\n",
      "Origin_7:0.94\n",
      "Origin_2:0.94\n",
      "Dest_2:0.88\n",
      "Dest_1:0.88\n",
      "Origin_1:0.88\n",
      "Dest_3:0.86\n",
      "Origin_0:0.42\n",
      "Dest_0:0.35\n",
      "Diverted:0.21\n",
      "Year:0.00\n",
      "Month:0.00\n"
     ]
    }
   ],
   "source": [
    "for i in importance:\n",
    "    print(\"{0}:{1:.2f}\".format(\n",
    "        columns[i], 100 * rf_clf.feature_importances_[i]))"
   ]
  },
  {
   "cell_type": "code",
   "execution_count": null,
   "metadata": {
    "collapsed": true
   },
   "outputs": [],
   "source": []
  }
 ],
 "metadata": {
  "kernelspec": {
   "display_name": "Python 3",
   "language": "python",
   "name": "python3"
  },
  "language_info": {
   "codemirror_mode": {
    "name": "ipython",
    "version": 3
   },
   "file_extension": ".py",
   "mimetype": "text/x-python",
   "name": "python",
   "nbconvert_exporter": "python",
   "pygments_lexer": "ipython3",
   "version": "3.6.2"
  }
 },
 "nbformat": 4,
 "nbformat_minor": 2
}
